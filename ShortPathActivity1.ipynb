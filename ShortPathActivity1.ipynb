{
 "cells": [
  {
   "cell_type": "code",
   "execution_count": 1,
   "id": "157d1f00-7bc4-475c-aeae-92f41d6d909a",
   "metadata": {},
   "outputs": [],
   "source": [
    "import networkx as nx "
   ]
  },
  {
   "cell_type": "code",
   "execution_count": 2,
   "id": "8302b8ea-dea7-4f2f-b0ed-67453ea8ae02",
   "metadata": {},
   "outputs": [],
   "source": [
    "G=nx.Graph() # Creating the graph"
   ]
  },
  {
   "cell_type": "code",
   "execution_count": 3,
   "id": "29fa4542-6260-4f67-91c9-6febfc04801e",
   "metadata": {},
   "outputs": [],
   "source": [
    "# Defining the edges\n",
    "G.add_edge('Durban', 'Pietermaritzburg', weight=89)\n",
    "G.add_edge('Durban', 'Richards Bay', weight=112)\n",
    "G.add_edge('Pietermaritzburg', 'Richards Bay', weight=70)\n",
    "G.add_edge('Pietermaritzburg', 'Harrismith', weight=209)\n",
    "G.add_edge('Harrismith', 'Richards Bay', weight=100)\n",
    "G.add_edge('Harrismith', 'Volksrust', weight=41)\n",
    "G.add_edge('Harrismith','Johannesburg',weight=210)\n",
    "G.add_edge('Richards Bay','Volksrust',weight=106)\n",
    "G.add_edge('Volksrust','Johannesburg',weight=106)\n",
    "\n",
    "# Putting cities in a list to use it to communicate with the graph\n",
    "nodes_list = ['Durban','Pietermaritzburg', 'Richards Bay', 'Harrismith', 'Volksrust', 'Johannesburg']\n",
    "cost=0 # cost is the cost of current as our first cost is 0"
   ]
  },
  {
   "cell_type": "code",
   "execution_count": 4,
   "id": "605b06d6-9dde-462a-8e73-64c97feb095c",
   "metadata": {},
   "outputs": [],
   "source": [
    "# a function to get the number of kilometres between two cities \n",
    "def get_kms(G, node1, node2):\n",
    "    if G.has_edge(node1, node2):\n",
    "        return G[node1][node2]['weight']"
   ]
  },
  {
   "cell_type": "code",
   "execution_count": 5,
   "id": "e6efb5ea-7817-4765-b768-ebbc140c25a5",
   "metadata": {},
   "outputs": [],
   "source": [
    "# a function to calculate the costs and compare them \n",
    "def calculate_compare():\n",
    "    km1=get_kms(G,nodes_list[0],nodes_list[1])\n",
    "    km2=get_kms(G,nodes_list[0],nodes_list[2])\n",
    "    costOfN1 = km1+cost\n",
    "    costOfN2 = km2+cost\n",
    "    if costOfN1 > costOfN2:\n",
    "        goto=1\n",
    "    if costOfN1 < costOfN2:\n",
    "        goto=2\n",
    "    return goto,costOfN1, costOfN2"
   ]
  },
  {
   "cell_type": "code",
   "execution_count": 6,
   "id": "d461ebc6-3b27-4291-908a-f1a2ea7f58ed",
   "metadata": {},
   "outputs": [],
   "source": [
    "# function that takes a city and count number of cities adjacent to it\n",
    "# it is crucial to know the number of adjacent nodes incase it is 1 so we just skip comparing and go to the next node\n",
    "def count_adjacent(graph,nodes_list):\n",
    "    count=0\n",
    "    for i in range(len(nodes_list)-1):\n",
    "        if graph.has_edge(nodes_list[0],nodes_list[i+1]):\n",
    "            count +=1 \n",
    "    return count"
   ]
  },
  {
   "cell_type": "code",
   "execution_count": 7,
   "id": "a4e30f48-9964-49d9-bfdf-3de3ecb38a97",
   "metadata": {},
   "outputs": [
    {
     "name": "stdout",
     "output_type": "stream",
     "text": [
      "The shortest path is from Durban to Pietermaritzburg to Richards Bay to Volksrust to Johannesburg with a total cost of 371 kilometres\n"
     ]
    }
   ],
   "source": [
    "visited_cities=[] # to save the cities we go to\n",
    "# constructing the algorithm\n",
    "while nodes_list[0] != 'Johannesburg':\n",
    "    visited_cities.append(nodes_list[0])\n",
    "    count=count_adjacent(G,nodes_list)\n",
    "    if count ==1:                \n",
    "        a=get_kms(G,nodes_list[0],nodes_list[1])\n",
    "        cost +=a\n",
    "        nodes_list.remove(nodes_list[0])\n",
    "        continue\n",
    "    if count ==2:\n",
    "        goto,costOfN1,costOfN2=calculate_compare()\n",
    "        nodes_list.remove(nodes_list[0])\n",
    "        nodes_list.remove(nodes_list[goto])\n",
    "        if goto==2:\n",
    "            cost+=costOfN1\n",
    "        if goto==1:\n",
    "            cost+=costOfN2\n",
    "        if nodes_list[goto]=='Johannesburg':\n",
    "            nodes_list.append('Johannesburg')\n",
    "if nodes_list[0]=='Johannesburg':\n",
    "    visited_cities.append('Johannesburg')\n",
    "    print(\"The shortest path is from\",' to '.join(visited_cities),\"with a total cost of\",cost,\"kilometres\")"
   ]
  }
 ],
 "metadata": {
  "kernelspec": {
   "display_name": "Python 3 (ipykernel)",
   "language": "python",
   "name": "python3"
  },
  "language_info": {
   "codemirror_mode": {
    "name": "ipython",
    "version": 3
   },
   "file_extension": ".py",
   "mimetype": "text/x-python",
   "name": "python",
   "nbconvert_exporter": "python",
   "pygments_lexer": "ipython3",
   "version": "3.11.7"
  }
 },
 "nbformat": 4,
 "nbformat_minor": 5
}
